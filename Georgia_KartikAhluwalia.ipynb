{
  "nbformat": 4,
  "nbformat_minor": 0,
  "metadata": {
    "colab": {
      "provenance": [],
      "authorship_tag": "ABX9TyOwzTIgW687mkx+CxFu//3T",
      "include_colab_link": true
    },
    "kernelspec": {
      "name": "python3",
      "display_name": "Python 3"
    },
    "language_info": {
      "name": "python"
    }
  },
  "cells": [
    {
      "cell_type": "markdown",
      "metadata": {
        "id": "view-in-github",
        "colab_type": "text"
      },
      "source": [
        "<a href=\"https://colab.research.google.com/github/KartikAhluwalia/Assignment/blob/main/Georgia_KartikAhluwalia.ipynb\" target=\"_parent\"><img src=\"https://colab.research.google.com/assets/colab-badge.svg\" alt=\"Open In Colab\"/></a>"
      ]
    },
    {
      "cell_type": "code",
      "execution_count": null,
      "metadata": {
        "colab": {
          "base_uri": "https://localhost:8080/"
        },
        "id": "e638ncmiW5tl",
        "outputId": "6873de2f-57e3-4d1e-b513-197fe9e40415"
      },
      "outputs": [
        {
          "output_type": "stream",
          "name": "stdout",
          "text": [
            "Collecting sec-edgar-downloader\n",
            "  Downloading sec_edgar_downloader-5.0.2-py3-none-any.whl (14 kB)\n",
            "Requirement already satisfied: requests in /usr/local/lib/python3.10/dist-packages (from sec-edgar-downloader) (2.31.0)\n",
            "Collecting pyrate-limiter>=3.1.0 (from sec-edgar-downloader)\n",
            "  Downloading pyrate_limiter-3.6.1-py3-none-any.whl (26 kB)\n",
            "Requirement already satisfied: charset-normalizer<4,>=2 in /usr/local/lib/python3.10/dist-packages (from requests->sec-edgar-downloader) (3.3.2)\n",
            "Requirement already satisfied: idna<4,>=2.5 in /usr/local/lib/python3.10/dist-packages (from requests->sec-edgar-downloader) (3.7)\n",
            "Requirement already satisfied: urllib3<3,>=1.21.1 in /usr/local/lib/python3.10/dist-packages (from requests->sec-edgar-downloader) (2.0.7)\n",
            "Requirement already satisfied: certifi>=2017.4.17 in /usr/local/lib/python3.10/dist-packages (from requests->sec-edgar-downloader) (2024.2.2)\n",
            "Installing collected packages: pyrate-limiter, sec-edgar-downloader\n",
            "Successfully installed pyrate-limiter-3.6.1 sec-edgar-downloader-5.0.2\n"
          ]
        }
      ],
      "source": [
        "pip install -U sec-edgar-downloader"
      ]
    },
    {
      "cell_type": "markdown",
      "source": [
        "Task 1.1"
      ],
      "metadata": {
        "id": "zu3Tii6dXZL8"
      }
    },
    {
      "cell_type": "code",
      "source": [
        "from sec_edgar_downloader import Downloader\n",
        "dl = Downloader(\"MyCompanyName\", \"my.email@domain.com\", \"/content/Kartik\")\n",
        "equity_ids = [\"AAPL\", \"MSFT\"]\n",
        "filing_type = \"10-K\"\n",
        "for equity_id in equity_ids:\n",
        "  dl.get(filing_type, equity_id, after=\"1995-01-01\", before=\"2023-12-31\", download_details=False)"
      ],
      "metadata": {
        "id": "-xMJjB1OXbKj"
      },
      "execution_count": null,
      "outputs": []
    },
    {
      "cell_type": "markdown",
      "source": [
        "Reading all 29 files from the directory"
      ],
      "metadata": {
        "id": "KE2hWqU-XrzL"
      }
    },
    {
      "cell_type": "code",
      "source": [
        "import os\n",
        "\n",
        "def list_files_scandir(path='/content/Kartik'):\n",
        "\twith os.scandir(path) as entries:\n",
        "\t\tfor entry in entries:\n",
        "\t\t\tif entry.is_file():\n",
        "\t\t\t\tprint(entry.path)\n",
        "\t\t\telif entry.is_dir():\n",
        "\t\t\t\tlist_files_scandir(entry.path)\n",
        "\n",
        "# Specify the directory path you want to start from\n",
        "directory_path = '/content/Kartik/'\n",
        "list_files_scandir(directory_path)"
      ],
      "metadata": {
        "colab": {
          "base_uri": "https://localhost:8080/"
        },
        "id": "vIo_Tob3Xq2l",
        "outputId": "a5e85a8b-f315-4fb1-f007-6446252133bd"
      },
      "execution_count": null,
      "outputs": [
        {
          "output_type": "stream",
          "name": "stdout",
          "text": [
            "/content/Kartik/sec-edgar-filings/AAPL/10-K/0001193125-08-224958/full-submission.txt\n",
            "/content/Kartik/sec-edgar-filings/AAPL/10-K/0000320193-95-000016/full-submission.txt\n",
            "/content/Kartik/sec-edgar-filings/AAPL/10-K/0000320193-96-000023/full-submission.txt\n",
            "/content/Kartik/sec-edgar-filings/AAPL/10-K/0001047469-03-041604/full-submission.txt\n",
            "/content/Kartik/sec-edgar-filings/AAPL/10-K/0000912057-00-053623/full-submission.txt\n",
            "/content/Kartik/sec-edgar-filings/AAPL/10-K/0001047469-07-009340/full-submission.txt\n",
            "/content/Kartik/sec-edgar-filings/AAPL/10-K/0001193125-11-282113/full-submission.txt\n",
            "/content/Kartik/sec-edgar-filings/AAPL/10-K/0001193125-15-356351/full-submission.txt\n",
            "/content/Kartik/sec-edgar-filings/AAPL/10-K/0000320193-23-000106/full-submission.txt\n",
            "/content/Kartik/sec-edgar-filings/AAPL/10-K/0000320193-20-000096/full-submission.txt\n",
            "/content/Kartik/sec-edgar-filings/AAPL/10-K/0001628280-16-020309/full-submission.txt\n",
            "/content/Kartik/sec-edgar-filings/AAPL/10-K/0001047469-02-007674/full-submission.txt\n",
            "/content/Kartik/sec-edgar-filings/AAPL/10-K/0001104659-05-058421/full-submission.txt\n",
            "/content/Kartik/sec-edgar-filings/AAPL/10-K/0001047469-04-035975/full-submission.txt\n",
            "/content/Kartik/sec-edgar-filings/AAPL/10-K/0001193125-12-444068/full-submission.txt\n",
            "/content/Kartik/sec-edgar-filings/AAPL/10-K/0001193125-10-238044/full-submission.txt\n",
            "/content/Kartik/sec-edgar-filings/AAPL/10-K/0001047469-97-006960/full-submission.txt\n",
            "/content/Kartik/sec-edgar-filings/AAPL/10-K/0000320193-18-000145/full-submission.txt\n",
            "/content/Kartik/sec-edgar-filings/AAPL/10-K/0001193125-13-416534/full-submission.txt\n",
            "/content/Kartik/sec-edgar-filings/AAPL/10-K/0000320193-17-000070/full-submission.txt\n",
            "/content/Kartik/sec-edgar-filings/AAPL/10-K/0001104659-06-084288/full-submission.txt\n",
            "/content/Kartik/sec-edgar-filings/AAPL/10-K/0000320193-22-000108/full-submission.txt\n",
            "/content/Kartik/sec-edgar-filings/AAPL/10-K/0001193125-14-383437/full-submission.txt\n",
            "/content/Kartik/sec-edgar-filings/AAPL/10-K/0000320193-19-000119/full-submission.txt\n",
            "/content/Kartik/sec-edgar-filings/AAPL/10-K/0000320193-21-000105/full-submission.txt\n",
            "/content/Kartik/sec-edgar-filings/AAPL/10-K/0000912057-99-010244/full-submission.txt\n",
            "/content/Kartik/sec-edgar-filings/AAPL/10-K/0001193125-09-214859/full-submission.txt\n",
            "/content/Kartik/sec-edgar-filings/MSFT/10-K/0001564590-19-027952/full-submission.txt\n",
            "/content/Kartik/sec-edgar-filings/MSFT/10-K/0001193125-09-158735/full-submission.txt\n",
            "/content/Kartik/sec-edgar-filings/MSFT/10-K/0001032210-98-001067/full-submission.txt\n",
            "/content/Kartik/sec-edgar-filings/MSFT/10-K/0001032210-00-001961/full-submission.txt\n",
            "/content/Kartik/sec-edgar-filings/MSFT/10-K/0001564590-18-019062/full-submission.txt\n",
            "/content/Kartik/sec-edgar-filings/MSFT/10-K/0001032210-01-501099/full-submission.txt\n",
            "/content/Kartik/sec-edgar-filings/MSFT/10-K/0001193125-08-162768/full-submission.txt\n",
            "/content/Kartik/sec-edgar-filings/MSFT/10-K/0001017062-97-001764/full-submission.txt\n",
            "/content/Kartik/sec-edgar-filings/MSFT/10-K/0000891020-96-001130/full-submission.txt\n",
            "/content/Kartik/sec-edgar-filings/MSFT/10-K/0001193125-16-662209/full-submission.txt\n",
            "/content/Kartik/sec-edgar-filings/MSFT/10-K/0001193125-14-289961/full-submission.txt\n",
            "/content/Kartik/sec-edgar-filings/MSFT/10-K/0001193125-06-180008/full-submission.txt\n",
            "/content/Kartik/sec-edgar-filings/MSFT/10-K/0001564590-20-034944/full-submission.txt\n",
            "/content/Kartik/sec-edgar-filings/MSFT/10-K/0001032210-02-001351/full-submission.txt\n",
            "/content/Kartik/sec-edgar-filings/MSFT/10-K/0001193125-07-170817/full-submission.txt\n",
            "/content/Kartik/sec-edgar-filings/MSFT/10-K/0001032210-99-001375/full-submission.txt\n",
            "/content/Kartik/sec-edgar-filings/MSFT/10-K/0001193125-03-045632/full-submission.txt\n",
            "/content/Kartik/sec-edgar-filings/MSFT/10-K/0001193125-04-150689/full-submission.txt\n",
            "/content/Kartik/sec-edgar-filings/MSFT/10-K/0001564590-21-039151/full-submission.txt\n",
            "/content/Kartik/sec-edgar-filings/MSFT/10-K/0001193125-11-200680/full-submission.txt\n",
            "/content/Kartik/sec-edgar-filings/MSFT/10-K/0001193125-05-174825/full-submission.txt\n",
            "/content/Kartik/sec-edgar-filings/MSFT/10-K/0001193125-15-272806/full-submission.txt\n",
            "/content/Kartik/sec-edgar-filings/MSFT/10-K/0001564590-22-026876/full-submission.txt\n",
            "/content/Kartik/sec-edgar-filings/MSFT/10-K/0001193125-12-316848/full-submission.txt\n",
            "/content/Kartik/sec-edgar-filings/MSFT/10-K/0001564590-17-014900/full-submission.txt\n",
            "/content/Kartik/sec-edgar-filings/MSFT/10-K/0001193125-10-171791/full-submission.txt\n",
            "/content/Kartik/sec-edgar-filings/MSFT/10-K/0000950170-23-035122/full-submission.txt\n",
            "/content/Kartik/sec-edgar-filings/MSFT/10-K/0001193125-13-310206/full-submission.txt\n",
            "/content/Kartik/sec-edgar-filings/MSFT/10-K/0000891020-95-000433/full-submission.txt\n"
          ]
        }
      ]
    },
    {
      "cell_type": "markdown",
      "source": [
        "Saving all txt files as htm files"
      ],
      "metadata": {
        "id": "osYsL5iYYC_F"
      }
    },
    {
      "cell_type": "code",
      "source": [
        "import html\n",
        "import os\n",
        "\n",
        "def save_txt_as_html(txt_file_path, html_file_path):\n",
        "    with open(txt_file_path, 'r') as txt_file:\n",
        "        text = txt_file.read()\n",
        "    html_content = html.escape(text)\n",
        "    html_template = f'{html_content}'\n",
        "    with open(html_file_path, 'w') as html_file:\n",
        "        html_file.write(html_template)\n",
        "\n",
        "\n",
        "def list_files_scandir(path='/content/Kartik'):\n",
        "    with os.scandir(path) as entries:\n",
        "      for entry in entries:\n",
        "        if entry.is_file():\n",
        "          save_txt_path = entry.path\n",
        "          html_file_path = save_txt_path.replace(\".txt\", \".htm\")\n",
        "          save_txt_as_html(save_txt_path, html_file_path)\n",
        "          print(entry.path)\n",
        "          print(html_file_path)\n",
        "        elif entry.is_dir():\n",
        "          list_files_scandir(entry.path)\n",
        "\n",
        "# Specify the directory path you want to start from\n",
        "directory_path = '/content/Kartik/'\n",
        "list_files_scandir(directory_path)"
      ],
      "metadata": {
        "colab": {
          "base_uri": "https://localhost:8080/"
        },
        "id": "vp3tNpy2YCHe",
        "outputId": "169f9bfd-c563-41e0-a2a8-5dee77d458ac"
      },
      "execution_count": null,
      "outputs": [
        {
          "output_type": "stream",
          "name": "stdout",
          "text": [
            "/content/Kartik/sec-edgar-filings/AAPL/10-K/0001193125-08-224958/full-submission.txt\n",
            "/content/Kartik/sec-edgar-filings/AAPL/10-K/0001193125-08-224958/full-submission.htm\n",
            "/content/Kartik/sec-edgar-filings/AAPL/10-K/0000320193-95-000016/full-submission.txt\n",
            "/content/Kartik/sec-edgar-filings/AAPL/10-K/0000320193-95-000016/full-submission.htm\n",
            "/content/Kartik/sec-edgar-filings/AAPL/10-K/0000320193-96-000023/full-submission.txt\n",
            "/content/Kartik/sec-edgar-filings/AAPL/10-K/0000320193-96-000023/full-submission.htm\n",
            "/content/Kartik/sec-edgar-filings/AAPL/10-K/0001047469-03-041604/full-submission.txt\n",
            "/content/Kartik/sec-edgar-filings/AAPL/10-K/0001047469-03-041604/full-submission.htm\n",
            "/content/Kartik/sec-edgar-filings/AAPL/10-K/0000912057-00-053623/full-submission.txt\n",
            "/content/Kartik/sec-edgar-filings/AAPL/10-K/0000912057-00-053623/full-submission.htm\n",
            "/content/Kartik/sec-edgar-filings/AAPL/10-K/0001047469-07-009340/full-submission.txt\n",
            "/content/Kartik/sec-edgar-filings/AAPL/10-K/0001047469-07-009340/full-submission.htm\n",
            "/content/Kartik/sec-edgar-filings/AAPL/10-K/0001193125-11-282113/full-submission.txt\n",
            "/content/Kartik/sec-edgar-filings/AAPL/10-K/0001193125-11-282113/full-submission.htm\n",
            "/content/Kartik/sec-edgar-filings/AAPL/10-K/0001193125-15-356351/full-submission.txt\n",
            "/content/Kartik/sec-edgar-filings/AAPL/10-K/0001193125-15-356351/full-submission.htm\n",
            "/content/Kartik/sec-edgar-filings/AAPL/10-K/0000320193-23-000106/full-submission.txt\n",
            "/content/Kartik/sec-edgar-filings/AAPL/10-K/0000320193-23-000106/full-submission.htm\n",
            "/content/Kartik/sec-edgar-filings/AAPL/10-K/0000320193-20-000096/full-submission.txt\n",
            "/content/Kartik/sec-edgar-filings/AAPL/10-K/0000320193-20-000096/full-submission.htm\n",
            "/content/Kartik/sec-edgar-filings/AAPL/10-K/0001628280-16-020309/full-submission.txt\n",
            "/content/Kartik/sec-edgar-filings/AAPL/10-K/0001628280-16-020309/full-submission.htm\n",
            "/content/Kartik/sec-edgar-filings/AAPL/10-K/0001047469-02-007674/full-submission.txt\n",
            "/content/Kartik/sec-edgar-filings/AAPL/10-K/0001047469-02-007674/full-submission.htm\n",
            "/content/Kartik/sec-edgar-filings/AAPL/10-K/0001104659-05-058421/full-submission.txt\n",
            "/content/Kartik/sec-edgar-filings/AAPL/10-K/0001104659-05-058421/full-submission.htm\n",
            "/content/Kartik/sec-edgar-filings/AAPL/10-K/0001047469-04-035975/full-submission.txt\n",
            "/content/Kartik/sec-edgar-filings/AAPL/10-K/0001047469-04-035975/full-submission.htm\n",
            "/content/Kartik/sec-edgar-filings/AAPL/10-K/0001193125-12-444068/full-submission.txt\n",
            "/content/Kartik/sec-edgar-filings/AAPL/10-K/0001193125-12-444068/full-submission.htm\n",
            "/content/Kartik/sec-edgar-filings/AAPL/10-K/0001193125-10-238044/full-submission.txt\n",
            "/content/Kartik/sec-edgar-filings/AAPL/10-K/0001193125-10-238044/full-submission.htm\n",
            "/content/Kartik/sec-edgar-filings/AAPL/10-K/0001047469-97-006960/full-submission.txt\n",
            "/content/Kartik/sec-edgar-filings/AAPL/10-K/0001047469-97-006960/full-submission.htm\n",
            "/content/Kartik/sec-edgar-filings/AAPL/10-K/0000320193-18-000145/full-submission.txt\n",
            "/content/Kartik/sec-edgar-filings/AAPL/10-K/0000320193-18-000145/full-submission.htm\n",
            "/content/Kartik/sec-edgar-filings/AAPL/10-K/0001193125-13-416534/full-submission.txt\n",
            "/content/Kartik/sec-edgar-filings/AAPL/10-K/0001193125-13-416534/full-submission.htm\n",
            "/content/Kartik/sec-edgar-filings/AAPL/10-K/0000320193-17-000070/full-submission.txt\n",
            "/content/Kartik/sec-edgar-filings/AAPL/10-K/0000320193-17-000070/full-submission.htm\n",
            "/content/Kartik/sec-edgar-filings/AAPL/10-K/0001104659-06-084288/full-submission.txt\n",
            "/content/Kartik/sec-edgar-filings/AAPL/10-K/0001104659-06-084288/full-submission.htm\n",
            "/content/Kartik/sec-edgar-filings/AAPL/10-K/0000320193-22-000108/full-submission.txt\n",
            "/content/Kartik/sec-edgar-filings/AAPL/10-K/0000320193-22-000108/full-submission.htm\n",
            "/content/Kartik/sec-edgar-filings/AAPL/10-K/0001193125-14-383437/full-submission.txt\n",
            "/content/Kartik/sec-edgar-filings/AAPL/10-K/0001193125-14-383437/full-submission.htm\n",
            "/content/Kartik/sec-edgar-filings/AAPL/10-K/0000320193-19-000119/full-submission.txt\n",
            "/content/Kartik/sec-edgar-filings/AAPL/10-K/0000320193-19-000119/full-submission.htm\n",
            "/content/Kartik/sec-edgar-filings/AAPL/10-K/0000320193-21-000105/full-submission.txt\n",
            "/content/Kartik/sec-edgar-filings/AAPL/10-K/0000320193-21-000105/full-submission.htm\n",
            "/content/Kartik/sec-edgar-filings/AAPL/10-K/0000912057-99-010244/full-submission.txt\n",
            "/content/Kartik/sec-edgar-filings/AAPL/10-K/0000912057-99-010244/full-submission.htm\n",
            "/content/Kartik/sec-edgar-filings/AAPL/10-K/0001193125-09-214859/full-submission.txt\n",
            "/content/Kartik/sec-edgar-filings/AAPL/10-K/0001193125-09-214859/full-submission.htm\n",
            "/content/Kartik/sec-edgar-filings/MSFT/10-K/0001564590-19-027952/full-submission.txt\n",
            "/content/Kartik/sec-edgar-filings/MSFT/10-K/0001564590-19-027952/full-submission.htm\n",
            "/content/Kartik/sec-edgar-filings/MSFT/10-K/0001193125-09-158735/full-submission.txt\n",
            "/content/Kartik/sec-edgar-filings/MSFT/10-K/0001193125-09-158735/full-submission.htm\n",
            "/content/Kartik/sec-edgar-filings/MSFT/10-K/0001032210-98-001067/full-submission.txt\n",
            "/content/Kartik/sec-edgar-filings/MSFT/10-K/0001032210-98-001067/full-submission.htm\n",
            "/content/Kartik/sec-edgar-filings/MSFT/10-K/0001032210-00-001961/full-submission.txt\n",
            "/content/Kartik/sec-edgar-filings/MSFT/10-K/0001032210-00-001961/full-submission.htm\n",
            "/content/Kartik/sec-edgar-filings/MSFT/10-K/0001564590-18-019062/full-submission.txt\n",
            "/content/Kartik/sec-edgar-filings/MSFT/10-K/0001564590-18-019062/full-submission.htm\n",
            "/content/Kartik/sec-edgar-filings/MSFT/10-K/0001032210-01-501099/full-submission.txt\n",
            "/content/Kartik/sec-edgar-filings/MSFT/10-K/0001032210-01-501099/full-submission.htm\n",
            "/content/Kartik/sec-edgar-filings/MSFT/10-K/0001193125-08-162768/full-submission.txt\n",
            "/content/Kartik/sec-edgar-filings/MSFT/10-K/0001193125-08-162768/full-submission.htm\n",
            "/content/Kartik/sec-edgar-filings/MSFT/10-K/0001017062-97-001764/full-submission.txt\n",
            "/content/Kartik/sec-edgar-filings/MSFT/10-K/0001017062-97-001764/full-submission.htm\n",
            "/content/Kartik/sec-edgar-filings/MSFT/10-K/0000891020-96-001130/full-submission.txt\n",
            "/content/Kartik/sec-edgar-filings/MSFT/10-K/0000891020-96-001130/full-submission.htm\n",
            "/content/Kartik/sec-edgar-filings/MSFT/10-K/0001193125-16-662209/full-submission.txt\n",
            "/content/Kartik/sec-edgar-filings/MSFT/10-K/0001193125-16-662209/full-submission.htm\n",
            "/content/Kartik/sec-edgar-filings/MSFT/10-K/0001193125-14-289961/full-submission.txt\n",
            "/content/Kartik/sec-edgar-filings/MSFT/10-K/0001193125-14-289961/full-submission.htm\n",
            "/content/Kartik/sec-edgar-filings/MSFT/10-K/0001193125-06-180008/full-submission.txt\n",
            "/content/Kartik/sec-edgar-filings/MSFT/10-K/0001193125-06-180008/full-submission.htm\n",
            "/content/Kartik/sec-edgar-filings/MSFT/10-K/0001564590-20-034944/full-submission.txt\n",
            "/content/Kartik/sec-edgar-filings/MSFT/10-K/0001564590-20-034944/full-submission.htm\n",
            "/content/Kartik/sec-edgar-filings/MSFT/10-K/0001032210-02-001351/full-submission.txt\n",
            "/content/Kartik/sec-edgar-filings/MSFT/10-K/0001032210-02-001351/full-submission.htm\n",
            "/content/Kartik/sec-edgar-filings/MSFT/10-K/0001193125-07-170817/full-submission.txt\n",
            "/content/Kartik/sec-edgar-filings/MSFT/10-K/0001193125-07-170817/full-submission.htm\n",
            "/content/Kartik/sec-edgar-filings/MSFT/10-K/0001032210-99-001375/full-submission.txt\n",
            "/content/Kartik/sec-edgar-filings/MSFT/10-K/0001032210-99-001375/full-submission.htm\n",
            "/content/Kartik/sec-edgar-filings/MSFT/10-K/0001193125-03-045632/full-submission.txt\n",
            "/content/Kartik/sec-edgar-filings/MSFT/10-K/0001193125-03-045632/full-submission.htm\n",
            "/content/Kartik/sec-edgar-filings/MSFT/10-K/0001193125-04-150689/full-submission.txt\n",
            "/content/Kartik/sec-edgar-filings/MSFT/10-K/0001193125-04-150689/full-submission.htm\n",
            "/content/Kartik/sec-edgar-filings/MSFT/10-K/0001564590-21-039151/full-submission.txt\n",
            "/content/Kartik/sec-edgar-filings/MSFT/10-K/0001564590-21-039151/full-submission.htm\n",
            "/content/Kartik/sec-edgar-filings/MSFT/10-K/0001193125-11-200680/full-submission.txt\n",
            "/content/Kartik/sec-edgar-filings/MSFT/10-K/0001193125-11-200680/full-submission.htm\n",
            "/content/Kartik/sec-edgar-filings/MSFT/10-K/0001193125-05-174825/full-submission.txt\n",
            "/content/Kartik/sec-edgar-filings/MSFT/10-K/0001193125-05-174825/full-submission.htm\n",
            "/content/Kartik/sec-edgar-filings/MSFT/10-K/0001193125-15-272806/full-submission.txt\n",
            "/content/Kartik/sec-edgar-filings/MSFT/10-K/0001193125-15-272806/full-submission.htm\n",
            "/content/Kartik/sec-edgar-filings/MSFT/10-K/0001564590-22-026876/full-submission.txt\n",
            "/content/Kartik/sec-edgar-filings/MSFT/10-K/0001564590-22-026876/full-submission.htm\n",
            "/content/Kartik/sec-edgar-filings/MSFT/10-K/0001193125-12-316848/full-submission.txt\n",
            "/content/Kartik/sec-edgar-filings/MSFT/10-K/0001193125-12-316848/full-submission.htm\n",
            "/content/Kartik/sec-edgar-filings/MSFT/10-K/0001564590-17-014900/full-submission.txt\n",
            "/content/Kartik/sec-edgar-filings/MSFT/10-K/0001564590-17-014900/full-submission.htm\n",
            "/content/Kartik/sec-edgar-filings/MSFT/10-K/0001193125-10-171791/full-submission.txt\n",
            "/content/Kartik/sec-edgar-filings/MSFT/10-K/0001193125-10-171791/full-submission.htm\n",
            "/content/Kartik/sec-edgar-filings/MSFT/10-K/0000950170-23-035122/full-submission.txt\n",
            "/content/Kartik/sec-edgar-filings/MSFT/10-K/0000950170-23-035122/full-submission.htm\n",
            "/content/Kartik/sec-edgar-filings/MSFT/10-K/0001193125-13-310206/full-submission.txt\n",
            "/content/Kartik/sec-edgar-filings/MSFT/10-K/0001193125-13-310206/full-submission.htm\n",
            "/content/Kartik/sec-edgar-filings/MSFT/10-K/0000891020-95-000433/full-submission.txt\n",
            "/content/Kartik/sec-edgar-filings/MSFT/10-K/0000891020-95-000433/full-submission.htm\n"
          ]
        }
      ]
    },
    {
      "cell_type": "markdown",
      "source": [
        "Task 1.2 Installing some packages"
      ],
      "metadata": {
        "id": "hXvFlRDhYPM7"
      }
    },
    {
      "cell_type": "code",
      "source": [
        "pip install sumy"
      ],
      "metadata": {
        "colab": {
          "base_uri": "https://localhost:8080/"
        },
        "id": "7DhTfF8HYCNe",
        "outputId": "515c845d-9622-4706-99ea-3e6a42cb14c0"
      },
      "execution_count": null,
      "outputs": [
        {
          "output_type": "stream",
          "name": "stdout",
          "text": [
            "Collecting sumy\n",
            "  Downloading sumy-0.11.0-py2.py3-none-any.whl (97 kB)\n",
            "\u001b[?25l     \u001b[90m━━━━━━━━━━━━━━━━━━━━━━━━━━━━━━━━━━━━━━━━\u001b[0m \u001b[32m0.0/97.3 kB\u001b[0m \u001b[31m?\u001b[0m eta \u001b[36m-:--:--\u001b[0m\r\u001b[2K     \u001b[90m━━━━━━━━━━━━━━━━━━━━━━━━━━━━━━━━━━━━━━━━\u001b[0m \u001b[32m97.3/97.3 kB\u001b[0m \u001b[31m2.9 MB/s\u001b[0m eta \u001b[36m0:00:00\u001b[0m\n",
            "\u001b[?25hCollecting docopt<0.7,>=0.6.1 (from sumy)\n",
            "  Downloading docopt-0.6.2.tar.gz (25 kB)\n",
            "  Preparing metadata (setup.py) ... \u001b[?25l\u001b[?25hdone\n",
            "Collecting breadability>=0.1.20 (from sumy)\n",
            "  Downloading breadability-0.1.20.tar.gz (32 kB)\n",
            "  Preparing metadata (setup.py) ... \u001b[?25l\u001b[?25hdone\n",
            "Requirement already satisfied: requests>=2.7.0 in /usr/local/lib/python3.10/dist-packages (from sumy) (2.31.0)\n",
            "Collecting pycountry>=18.2.23 (from sumy)\n",
            "  Downloading pycountry-23.12.11-py3-none-any.whl (6.2 MB)\n",
            "\u001b[2K     \u001b[90m━━━━━━━━━━━━━━━━━━━━━━━━━━━━━━━━━━━━━━━━\u001b[0m \u001b[32m6.2/6.2 MB\u001b[0m \u001b[31m18.5 MB/s\u001b[0m eta \u001b[36m0:00:00\u001b[0m\n",
            "\u001b[?25hRequirement already satisfied: nltk>=3.0.2 in /usr/local/lib/python3.10/dist-packages (from sumy) (3.8.1)\n",
            "Requirement already satisfied: chardet in /usr/local/lib/python3.10/dist-packages (from breadability>=0.1.20->sumy) (5.2.0)\n",
            "Requirement already satisfied: lxml>=2.0 in /usr/local/lib/python3.10/dist-packages (from breadability>=0.1.20->sumy) (4.9.4)\n",
            "Requirement already satisfied: click in /usr/local/lib/python3.10/dist-packages (from nltk>=3.0.2->sumy) (8.1.7)\n",
            "Requirement already satisfied: joblib in /usr/local/lib/python3.10/dist-packages (from nltk>=3.0.2->sumy) (1.4.0)\n",
            "Requirement already satisfied: regex>=2021.8.3 in /usr/local/lib/python3.10/dist-packages (from nltk>=3.0.2->sumy) (2023.12.25)\n",
            "Requirement already satisfied: tqdm in /usr/local/lib/python3.10/dist-packages (from nltk>=3.0.2->sumy) (4.66.2)\n",
            "Requirement already satisfied: charset-normalizer<4,>=2 in /usr/local/lib/python3.10/dist-packages (from requests>=2.7.0->sumy) (3.3.2)\n",
            "Requirement already satisfied: idna<4,>=2.5 in /usr/local/lib/python3.10/dist-packages (from requests>=2.7.0->sumy) (3.7)\n",
            "Requirement already satisfied: urllib3<3,>=1.21.1 in /usr/local/lib/python3.10/dist-packages (from requests>=2.7.0->sumy) (2.0.7)\n",
            "Requirement already satisfied: certifi>=2017.4.17 in /usr/local/lib/python3.10/dist-packages (from requests>=2.7.0->sumy) (2024.2.2)\n",
            "Building wheels for collected packages: breadability, docopt\n",
            "  Building wheel for breadability (setup.py) ... \u001b[?25l\u001b[?25hdone\n",
            "  Created wheel for breadability: filename=breadability-0.1.20-py2.py3-none-any.whl size=21693 sha256=c1f2aee3f5ece78d8dbe52f20dd35a10e91406410071218bbad267bb7bcf9a72\n",
            "  Stored in directory: /root/.cache/pip/wheels/64/22/90/b84fcc30e16598db20a0d41340616dbf9b1e82bbcc627b0b33\n",
            "  Building wheel for docopt (setup.py) ... \u001b[?25l\u001b[?25hdone\n",
            "  Created wheel for docopt: filename=docopt-0.6.2-py2.py3-none-any.whl size=13706 sha256=d2d3f306ee9efba09cb0778b8d77bd2f80f5f90aaee18527e4e9cc432404a13e\n",
            "  Stored in directory: /root/.cache/pip/wheels/fc/ab/d4/5da2067ac95b36618c629a5f93f809425700506f72c9732fac\n",
            "Successfully built breadability docopt\n",
            "Installing collected packages: docopt, pycountry, breadability, sumy\n",
            "Successfully installed breadability-0.1.20 docopt-0.6.2 pycountry-23.12.11 sumy-0.11.0\n"
          ]
        }
      ]
    },
    {
      "cell_type": "code",
      "source": [
        "import nltk\n",
        "nltk.download('punkt')\n",
        "nltk.download('stopwords')"
      ],
      "metadata": {
        "colab": {
          "base_uri": "https://localhost:8080/"
        },
        "id": "XbKpVKf_Yf1y",
        "outputId": "d6fb5d23-884d-4048-d391-4883fa5c217d"
      },
      "execution_count": null,
      "outputs": [
        {
          "output_type": "stream",
          "name": "stderr",
          "text": [
            "[nltk_data] Downloading package punkt to /root/nltk_data...\n",
            "[nltk_data]   Unzipping tokenizers/punkt.zip.\n",
            "[nltk_data] Downloading package stopwords to /root/nltk_data...\n",
            "[nltk_data]   Unzipping corpora/stopwords.zip.\n"
          ]
        },
        {
          "output_type": "execute_result",
          "data": {
            "text/plain": [
              "True"
            ]
          },
          "metadata": {},
          "execution_count": 6
        }
      ]
    },
    {
      "cell_type": "markdown",
      "source": [
        "Summary of 1 file - first 20 lines"
      ],
      "metadata": {
        "id": "9_uegUDiZU3i"
      }
    },
    {
      "cell_type": "code",
      "source": [
        "import nltk\n",
        "from nltk.corpus import stopwords\n",
        "from nltk.tokenize import word_tokenize, sent_tokenize\n",
        "from sumy.parsers.html import HtmlParser\n",
        "from sumy.nlp.stemmers import Stemmer\n",
        "from sumy.summarizers.lsa import LsaSummarizer\n",
        "from sumy.nlp.tokenizers import Tokenizer\n",
        "# Initialize the summarizer\n",
        "summarizer = LsaSummarizer()\n",
        "\n",
        "# Set the language for the summarizer\n",
        "summarizer.stemmer = Tokenizer('english')\n",
        "\n",
        "# Parse the HTML file\n",
        "parser = HtmlParser.from_file('/content/Kartik/sec-edgar-filings/AAPL/10-K/0000320193-17-000070/full-submission.htm', \"\", Tokenizer('english'))\n",
        "\n",
        "# Extract the text from the HTML file\n",
        "text = parser.document.sentences\n",
        "\n",
        "# Tokenize the text\n",
        "stopWords = set(stopwords.words(\"english\"))\n",
        "words = word_tokenize(str(text))\n",
        "\n",
        "# Create a frequency table to keep a score of each word\n",
        "freqTable = dict()\n",
        "for word in words:\n",
        "    word = word.lower()\n",
        "    if word in stopWords:\n",
        "        continue\n",
        "    if word in freqTable:\n",
        "        freqTable[word] += 1\n",
        "    else:\n",
        "        freqTable[word] = 1\n",
        "\n",
        "# Create a dictionary to keep the score of each sentence\n",
        "sentenceValue = dict()\n",
        "for sentence in text:\n",
        "    for word, freq in freqTable.items():\n",
        "        if word in sentence.words:\n",
        "            if sentence in sentenceValue:\n",
        "                sentenceValue[sentence] += freq\n",
        "            else:\n",
        "                sentenceValue[sentence] = freq\n",
        "\n",
        "# Sort the sentences by their values\n",
        "summary = sorted(sentenceValue, key=sentenceValue.get, reverse=True)\n",
        "\n",
        "# Print the summary\n",
        "for sentence in summary[:20]:\n",
        "    print(sentence)"
      ],
      "metadata": {
        "colab": {
          "base_uri": "https://localhost:8080/"
        },
        "id": "FJuofOcHZUp8",
        "outputId": "c3befe86-34f8-4c9e-a093-99e861ac84a2"
      },
      "execution_count": null,
      "outputs": [
        {
          "output_type": "stream",
          "name": "stdout",
          "text": [
            "Fair value is estimated by applying the following hierarchy, which prioritizes the inputs used to measure fair value into three levels and bases the categorization within the hierarchy upon the lowest level of input that is available and significant to the fair value measurement:&lt;/font&gt;&lt;/div&gt;&lt;div style=\"line-height:120%;padding-top:12px;text-align:justify;font-size:9pt;\"&gt;&lt;font style=\"font-family:Helvetica,sans-serif;font-size:9pt;font-style:italic;\"&gt;Level 1&lt;/font&gt;&lt;font style=\"font-family:Helvetica,sans-serif;font-size:9pt;\"&gt; &amp;#8211; Quoted prices in active markets for identical assets or liabilities.&lt;/font&gt;&lt;/div&gt;&lt;div style=\"line-height:120%;padding-top:16px;text-align:justify;font-size:9pt;\"&gt;&lt;font style=\"font-family:Helvetica,sans-serif;font-size:9pt;font-style:italic;\"&gt;Level 2&lt;/font&gt;&lt;font style=\"font-family:Helvetica,sans-serif;font-size:9pt;\"&gt; &amp;#8211; Observable inputs other than quoted prices in active markets for identical assets and liabilities, quoted prices for identical or similar assets or liabilities in inactive markets, or other inputs that are observable or can be corroborated by observable market data for substantially the full term of the assets or liabilities.&lt;/font&gt;&lt;/div&gt;&lt;div style=\"line-height:120%;padding-top:16px;text-align:justify;font-size:9pt;\"&gt;&lt;font style=\"font-family:Helvetica,sans-serif;font-size:9pt;font-style:italic;\"&gt;Level 3&lt;/font&gt;&lt;font style=\"font-family:Helvetica,sans-serif;font-size:9pt;\"&gt; &amp;#8211; Inputs that are generally unobservable and typically reflect management&amp;#8217;s estimate of assumptions that market participants would use in pricing the asset or liability.&lt;/font&gt;&lt;/div&gt;&lt;div style=\"line-height:120%;padding-top:16px;text-align:justify;font-size:9pt;\"&gt;&lt;font style=\"font-family:Helvetica,sans-serif;font-size:9pt;\"&gt;The Company&amp;#8217;s valuation techniques used to measure the fair value of money market funds and certain marketable equity securities were derived from quoted prices in active markets for identical assets or liabilities.\n",
            "The valuation techniques used to measure the fair value of the Company&amp;#8217;s debt instruments and all other financial instruments, all of which have counterparties with high credit ratings, were valued based on quoted market prices or model-driven valuations using significant inputs derived from or corroborated by observable market data.&lt;/font&gt;&lt;/div&gt;&lt;div style=\"line-height:120%;padding-top:16px;text-align:justify;font-size:9pt;\"&gt;&lt;font style=\"font-family:Helvetica,sans-serif;font-size:9pt;\"&gt;In accordance with the fair value accounting requirements, companies may choose to measure eligible financial instruments and certain other items at fair value.\n",
            "The Company recognizes revenue in accordance with industry-specific software accounting guidance for the following types of sales transactions: (i)&amp;#160;standalone sales of software products, (ii)&amp;#160;sales of software upgrades and (iii)&amp;#160;sales of software bundled with hardware not essential to the functionality of the hardware.&lt;/font&gt;&lt;/div&gt;&lt;div style=\"line-height:120%;padding-top:16px;text-align:justify;font-size:9pt;\"&gt;&lt;font style=\"font-family:Helvetica,sans-serif;font-size:9pt;\"&gt;For the sale of most third-party products, the Company recognizes revenue based on the gross amount billed to customers because the Company establishes its own pricing for such products, retains related inventory risk for physical products, is the primary obligor to the customer and assumes the credit risk for amounts billed to its customers.\n",
            "Any subsequent changes in fair value of such derivative instruments are reflected in other income/(expense), net unless they are re-designated as hedges of other transactions.&lt;/font&gt;&lt;/div&gt;&lt;div style=\"line-height:120%;padding-top:24px;text-align:justify;font-size:9pt;\"&gt;&lt;font style=\"font-family:Helvetica,sans-serif;font-size:9pt;font-style:italic;\"&gt;Net Investment Hedges&lt;/font&gt;&lt;/div&gt;&lt;div style=\"line-height:120%;padding-top:8px;text-align:justify;font-size:9pt;\"&gt;&lt;font style=\"font-family:Helvetica,sans-serif;font-size:9pt;\"&gt;The effective portions of net investment hedges are recorded in other comprehensive income/(loss) (&amp;#8220;OCI&amp;#8221;) as a part of the cumulative translation adjustment.\n",
            "Revenue is recorded net of taxes collected from customers that are remitted to governmental authorities, with the collected taxes recorded as current liabilities until remitted to the relevant government authority.&lt;/font&gt;&lt;/div&gt;&lt;div style=\"line-height:120%;padding-top:24px;text-align:justify;font-size:9pt;\"&gt;&lt;font style=\"font-family:Helvetica,sans-serif;font-size:9pt;font-style:italic;\"&gt;Revenue Recognition for Arrangements with Multiple Deliverables&lt;/font&gt;&lt;/div&gt;&lt;div style=\"line-height:120%;padding-top:8px;text-align:justify;font-size:9pt;\"&gt;&lt;font style=\"font-family:Helvetica,sans-serif;font-size:9pt;\"&gt;For multi-element arrangements that include hardware products containing software essential to the hardware product&amp;#8217;s functionality, undelivered software elements that relate to the hardware product&amp;#8217;s essential software, and undelivered non-software services, the Company allocates revenue to all deliverables based on their relative selling prices.\n",
            "There can be no assurance the hedges will offset more than a portion of the financial impact resulting from movements in foreign currency exchange or interest rates.&lt;/font&gt;&lt;/div&gt;&lt;div style=\"line-height:120%;padding-top:16px;text-align:justify;font-size:9pt;\"&gt;&lt;font style=\"font-family:Helvetica,sans-serif;font-size:9pt;\"&gt;To help protect gross margins from fluctuations in foreign currency exchange rates, certain of the Company&amp;#8217;s subsidiaries whose functional currency is the U.S. dollar may hedge a portion of forecasted foreign currency revenue, and subsidiaries whose functional currency is not the U.S. dollar and who sell in local currencies may hedge a portion of forecasted inventory purchases not denominated in the subsidiaries&amp;#8217; functional currencies.\n",
            "For multi-element arrangements accounted for in accordance with industry-specific software accounting guidance, the Company allocates revenue to all deliverables based on the VSOE of each element, and if VSOE does not exist revenue is recognized when elements lacking VSOE are delivered.&lt;/font&gt;&lt;/div&gt;&lt;div style=\"line-height:120%;padding-top:16px;text-align:justify;font-size:9pt;\"&gt;&lt;font style=\"font-family:Helvetica,sans-serif;font-size:9pt;\"&gt;For sales of qualifying versions of iPhone, iPad, iPod touch, Mac, Apple Watch and Apple TV, the Company has indicated it may from time to time provide future unspecified software upgrades to the device&amp;#8217;s essential software and/or non-software services free of charge.\n",
            "The Company&amp;#8217;s hedged term debt-related foreign currency transactions as of &lt;/font&gt;&lt;font style=\"font-family:Helvetica,sans-serif;font-size:9pt;\"&gt;September&amp;#160;30, 2017&lt;/font&gt;&lt;font style=\"font-family:Helvetica,sans-serif;font-size:9pt;\"&gt; are expected to be recognized within &lt;/font&gt;&lt;font style=\"font-family:Helvetica,sans-serif;font-size:9pt;\"&gt;25 years&lt;/font&gt;&lt;font style=\"font-family:Helvetica,sans-serif;font-size:9pt;\"&gt;.&lt;/font&gt;&lt;/div&gt;&lt;div style=\"line-height:120%;padding-top:24px;text-align:justify;font-size:9pt;\"&gt;&lt;font style=\"font-family:Helvetica,sans-serif;font-size:9pt;font-style:italic;\"&gt;Cash Flow Hedges&lt;/font&gt;&lt;/div&gt;&lt;div style=\"line-height:120%;padding-top:8px;text-align:justify;font-size:9pt;\"&gt;&lt;font style=\"font-family:Helvetica,sans-serif;font-size:9pt;\"&gt;The effective portions of cash flow hedges are recorded in AOCI until the hedged item is recognized in earnings.\n",
            "The Company&amp;#8217;s hedged interest rate transactions as of &lt;/font&gt;&lt;font style=\"font-family:Helvetica,sans-serif;font-size:9pt;\"&gt;September&amp;#160;30, 2017&lt;/font&gt;&lt;font style=\"font-family:Helvetica,sans-serif;font-size:9pt;\"&gt; are expected to be recognized within &lt;/font&gt;&lt;font style=\"font-family:Helvetica,sans-serif;font-size:9pt;\"&gt;10 years&lt;/font&gt;&lt;font style=\"font-family:Helvetica,sans-serif;font-size:9pt;\"&gt;.&lt;/font&gt;&lt;/div&gt;&lt;div style=\"line-height:120%;padding-top:16px;text-align:justify;font-size:9pt;\"&gt;&lt;font style=\"font-family:Helvetica,sans-serif;font-size:9pt;\"&gt;The Company may enter into foreign currency swaps to manage currency risk on its foreign currency-denominated term debt.\n",
            "The accounting policies of the various segments are the same as those described in Note 1, &amp;#8220;Summary of Significant Accounting Policies.&amp;#8221;&lt;/font&gt;&lt;/div&gt;&lt;div style=\"line-height:120%;padding-top:16px;text-align:justify;font-size:9pt;\"&gt;&lt;font style=\"font-family:Helvetica,sans-serif;font-size:9pt;\"&gt;The Company evaluates the performance of its reportable segments based on net sales and operating income.\n",
            "The portion of the gross amount billed to customers that is remitted by the Company to third-party app developers and certain digital content owners is not reflected in the Company&amp;#8217;s Consolidated Statements of Operations.&lt;/font&gt;&lt;/div&gt;&lt;div style=\"line-height:120%;padding-top:16px;text-align:justify;font-size:9pt;\"&gt;&lt;font style=\"font-family:Helvetica,sans-serif;font-size:9pt;\"&gt;The Company records deferred revenue when it receives payments in advance of the delivery of products or the performance of services.\n",
            "AppleCare service and support contracts typically include extended phone support, repair services, web-based support resources and diagnostic tools offered under the Company&amp;#8217;s standard limited warranty.&lt;/font&gt;&lt;/div&gt;&lt;div style=\"line-height:120%;padding-top:16px;text-align:justify;font-size:9pt;\"&gt;&lt;font style=\"font-family:Helvetica,sans-serif;font-size:9pt;\"&gt;The Company records reductions to revenue for estimated commitments related to price protection and other customer incentive programs.\n",
            "For options designated as cash flow hedges, changes in the time value are excluded from the assessment of hedge effectiveness and are recognized in earnings.&lt;/font&gt;&lt;/div&gt;&lt;div style=\"line-height:120%;padding-top:16px;text-align:justify;font-size:9pt;\"&gt;&lt;font style=\"font-family:Helvetica,sans-serif;font-size:9pt;\"&gt;For derivative instruments that hedge the exposure to changes in the fair value of an asset or a liability and that are designated as fair value hedges, both the net gain or loss on the derivative instrument as well as the offsetting gain or loss on the hedged item are recognized in earnings in the current period.&lt;/font&gt;&lt;/div&gt;&lt;div style=\"line-height:120%;padding-top:16px;text-align:justify;font-size:9pt;\"&gt;&lt;font style=\"font-family:Helvetica,sans-serif;font-size:9pt;\"&gt;For derivative instruments and foreign currency debt that hedge the exposure to changes in foreign currency exchange rates used for translation of the net investment in a foreign operation and that are designated as a net investment hedge, the net gain or loss on the effective portion of the derivative instrument is reported in the same manner as a foreign currency translation adjustment.\n",
            "In &lt;/font&gt;&lt;font style=\"font-family:Helvetica,sans-serif;font-size:9pt;\"&gt;2017&lt;/font&gt;&lt;font style=\"font-family:Helvetica,sans-serif;font-size:9pt;\"&gt; and &lt;/font&gt;&lt;font style=\"font-family:Helvetica,sans-serif;font-size:9pt;\"&gt;2016&lt;/font&gt;&lt;font style=\"font-family:Helvetica,sans-serif;font-size:9pt;\"&gt;, the Company&amp;#8217;s goodwill was primarily allocated to the Americas and Europe reporting units.&lt;/font&gt;&lt;/div&gt;&lt;div style=\"line-height:120%;padding-top:16px;text-align:justify;font-size:9pt;\"&gt;&lt;font style=\"font-family:Helvetica,sans-serif;font-size:9pt;\"&gt;The Company amortizes its intangible assets with definite useful lives over their estimated useful lives and reviews these assets for impairment.\n",
            "The management approach designates the internal reporting used by management for making decisions and assessing performance as the source of the Company&amp;#8217;s reportable segments.&lt;/font&gt;&lt;/div&gt;&lt;div style=\"line-height:120%;padding-top:16px;text-align:justify;font-size:9pt;\"&gt;&lt;font style=\"font-family:Helvetica,sans-serif;font-size:9pt;\"&gt;The Company manages its business primarily on a geographic basis.\n",
            "In both of these cases, the Company designates these instruments as net investment hedges.&lt;/font&gt;&lt;/div&gt;&lt;div style=\"line-height:120%;padding-top:16px;text-align:justify;font-size:9pt;\"&gt;&lt;font style=\"font-family:Helvetica,sans-serif;font-size:9pt;\"&gt;The Company may also enter into non-designated foreign currency contracts to partially offset the foreign currency exchange gains and losses generated by the remeasurement of certain assets and liabilities denominated in non-functional currencies.&lt;/font&gt;&lt;/div&gt;&lt;div style=\"line-height:120%;padding-top:16px;text-align:justify;font-size:9pt;\"&gt;&lt;font style=\"font-family:Helvetica,sans-serif;font-size:9pt;\"&gt;The Company may enter into interest rate swaps, options, or other instruments to manage interest rate risk.\n",
            "The Company typically hedges portions of its forecasted foreign currency exposure associated with revenue and inventory purchases, typically for up to &lt;/font&gt;&lt;font style=\"font-family:Helvetica,sans-serif;font-size:9pt;\"&gt;12 months&lt;/font&gt;&lt;font style=\"font-family:Helvetica,sans-serif;font-size:9pt;\"&gt;.&lt;/font&gt;&lt;/div&gt;&lt;div style=\"line-height:120%;padding-top:16px;text-align:justify;font-size:9pt;\"&gt;&lt;font style=\"font-family:Helvetica,sans-serif;font-size:9pt;\"&gt;To help protect the net investment in a foreign operation from adverse changes in foreign currency exchange rates, the Company may enter into foreign currency forward and option contracts to offset the changes in the carrying amounts of these investments due to fluctuations in foreign currency exchange rates.\n",
            "If property, plant and equipment, inventory component prepayments and certain identifiable intangibles are considered to be impaired, the impairment to be recognized equals the amount by which the carrying value of the asset exceeds its fair value.&lt;/font&gt;&lt;/div&gt;&lt;div style=\"line-height:120%;padding-top:16px;text-align:justify;font-size:9pt;\"&gt;&lt;font style=\"font-family:Helvetica,sans-serif;font-size:9pt;\"&gt;The Company does not amortize goodwill and intangible assets with indefinite useful lives; rather, such assets are required to be tested for impairment at least annually or sooner if events or changes in circumstances indicate that the assets may be impaired.\n",
            "The ineffective portions and amounts excluded from the effectiveness testing of cash flow hedges are recognized in other income/(expense), net.&lt;/font&gt;&lt;/div&gt;&lt;div style=\"line-height:120%;padding-top:16px;text-align:justify;font-size:9pt;\"&gt;&lt;font style=\"font-family:Helvetica,sans-serif;font-size:9pt;\"&gt;Derivative instruments designated as cash flow hedges must be de-designated as hedges when it is probable the forecasted hedged transaction will not occur in the initially identified time period or within a subsequent two-month time period.\n",
            "The Company records a valuation allowance to reduce deferred tax assets to the amount that is believed more likely than not to be realized.&lt;/font&gt;&lt;/div&gt;&lt;div style=\"line-height:120%;padding-top:16px;text-align:justify;font-size:9pt;\"&gt;&lt;font style=\"font-family:Helvetica,sans-serif;font-size:9pt;\"&gt;The Company recognizes the tax benefit from an uncertain tax position only if it is more likely than not the tax position will be sustained on examination by the taxing authorities, based on the technical merits of the position.\n"
          ]
        }
      ]
    },
    {
      "cell_type": "markdown",
      "source": [],
      "metadata": {
        "id": "GlEeEbJSdZ5i"
      }
    },
    {
      "cell_type": "markdown",
      "source": [
        "2nd way - parsing online html file  and summarizing the same"
      ],
      "metadata": {
        "id": "L5cZ9JmSdaBa"
      }
    },
    {
      "cell_type": "code",
      "source": [
        "pip install sumy"
      ],
      "metadata": {
        "colab": {
          "base_uri": "https://localhost:8080/"
        },
        "id": "YBXnr0Tldfog",
        "outputId": "f8b718a7-d672-4ffb-c997-f04ff592e4c9"
      },
      "execution_count": null,
      "outputs": [
        {
          "output_type": "stream",
          "name": "stdout",
          "text": [
            "Requirement already satisfied: sumy in /usr/local/lib/python3.10/dist-packages (0.11.0)\n",
            "Requirement already satisfied: docopt<0.7,>=0.6.1 in /usr/local/lib/python3.10/dist-packages (from sumy) (0.6.2)\n",
            "Requirement already satisfied: breadability>=0.1.20 in /usr/local/lib/python3.10/dist-packages (from sumy) (0.1.20)\n",
            "Requirement already satisfied: requests>=2.7.0 in /usr/local/lib/python3.10/dist-packages (from sumy) (2.31.0)\n",
            "Requirement already satisfied: pycountry>=18.2.23 in /usr/local/lib/python3.10/dist-packages (from sumy) (23.12.11)\n",
            "Requirement already satisfied: nltk>=3.0.2 in /usr/local/lib/python3.10/dist-packages (from sumy) (3.8.1)\n",
            "Requirement already satisfied: chardet in /usr/local/lib/python3.10/dist-packages (from breadability>=0.1.20->sumy) (5.2.0)\n",
            "Requirement already satisfied: lxml>=2.0 in /usr/local/lib/python3.10/dist-packages (from breadability>=0.1.20->sumy) (4.9.4)\n",
            "Requirement already satisfied: click in /usr/local/lib/python3.10/dist-packages (from nltk>=3.0.2->sumy) (8.1.7)\n",
            "Requirement already satisfied: joblib in /usr/local/lib/python3.10/dist-packages (from nltk>=3.0.2->sumy) (1.4.0)\n",
            "Requirement already satisfied: regex>=2021.8.3 in /usr/local/lib/python3.10/dist-packages (from nltk>=3.0.2->sumy) (2023.12.25)\n",
            "Requirement already satisfied: tqdm in /usr/local/lib/python3.10/dist-packages (from nltk>=3.0.2->sumy) (4.66.2)\n",
            "Requirement already satisfied: charset-normalizer<4,>=2 in /usr/local/lib/python3.10/dist-packages (from requests>=2.7.0->sumy) (3.3.2)\n",
            "Requirement already satisfied: idna<4,>=2.5 in /usr/local/lib/python3.10/dist-packages (from requests>=2.7.0->sumy) (3.7)\n",
            "Requirement already satisfied: urllib3<3,>=1.21.1 in /usr/local/lib/python3.10/dist-packages (from requests>=2.7.0->sumy) (2.0.7)\n",
            "Requirement already satisfied: certifi>=2017.4.17 in /usr/local/lib/python3.10/dist-packages (from requests>=2.7.0->sumy) (2024.2.2)\n"
          ]
        }
      ]
    },
    {
      "cell_type": "code",
      "source": [
        "import nltk\n",
        "nltk.download('punkt')"
      ],
      "metadata": {
        "colab": {
          "base_uri": "https://localhost:8080/"
        },
        "id": "X6Z3UxsDdrGD",
        "outputId": "6760b073-d138-4c68-a84b-6e6081dba634"
      },
      "execution_count": null,
      "outputs": [
        {
          "output_type": "stream",
          "name": "stderr",
          "text": [
            "[nltk_data] Downloading package punkt to /root/nltk_data...\n",
            "[nltk_data]   Package punkt is already up-to-date!\n"
          ]
        },
        {
          "output_type": "execute_result",
          "data": {
            "text/plain": [
              "True"
            ]
          },
          "metadata": {},
          "execution_count": 10
        }
      ]
    },
    {
      "cell_type": "markdown",
      "source": [
        "print first 5 lines of summary"
      ],
      "metadata": {
        "id": "jp9JNutJex69"
      }
    },
    {
      "cell_type": "code",
      "source": [
        "from sumy.parsers.html import HtmlParser\n",
        "from sumy.nlp.stemmers import Stemmer\n",
        "from sumy.nlp.tokenizers import Tokenizer\n",
        "from sumy.summarizers.lsa import LsaSummarizer as Summarizer\n",
        "from sumy.summarizers.text_rank import TextRankSummarizer\n",
        "\n",
        "# Initialize the summarizer\n",
        "summarizer = Summarizer()\n",
        "url = 'https://www.sec.gov/Archives/edgar/data/1318605/000156459021004599/tsla-10k_20201231.htm'\n",
        "# Set the language for the summarizer\n",
        "summarizer.stemmer = Stemmer('english')\n",
        "\n",
        "# Parse the text you want to summarize\n",
        "parser = HtmlParser.from_url(url, Tokenizer('english'))\n",
        "\n",
        "# Summarize the text\n",
        "summarizer = TextRankSummarizer()\n",
        "\n",
        "# Print the summary\n",
        "for sentence in summarizer(parser.document, 5):\n",
        "    print(sentence)"
      ],
      "metadata": {
        "colab": {
          "base_uri": "https://localhost:8080/"
        },
        "id": "pcvAA08Pd6Ee",
        "outputId": "bdb4d71e-f74b-46e6-e3ec-64b1b2f523cd"
      },
      "execution_count": null,
      "outputs": [
        {
          "output_type": "stream",
          "name": "stdout",
          "text": [
            "We have audited the accompanying consolidated balance sheets of Tesla, Inc. and its subsidiaries(the “Company”) as of December 31, 2020 and 2019,and the related consolidated statements of operations, of comprehensive income (loss), of redeemable noncontrolling interests and equity and of cash flows for each of the three years in the period ended December 31, 2020, including the related notes (collectively referred to as the “consolidated financial statements”).We also have audited the Company's internal control over financial reporting as of December 31, 2020, based on criteria established in Internal Control - Integrated Framework(2013)issued by the Committee of Sponsoring Organizations of the Treadway Commission (COSO).\n",
            "A company’s internal control over financial reporting includes those policies and procedures that (i) pertain to the maintenance of records that, in reasonable detail, accurately and fairly reflect the transactions and dispositions of the assets of the company; (ii) provide reasonable assurance that transactions are recorded as necessary to permit preparation of financial statements in accordance with generally accepted accounting principles, and that receipts and expenditures of the company are being made only in accordance with authorizations of management and directors of the company; and (iii) provide reasonable assurance regarding prevention or timely detection of unauthorized acquisition, use, or disposition of the company’s assets that could have a material effect on the financial statements.\n",
            "On the grant date, a Monte Carlo simulation was used to determine for each tranche (i) a fixed amount of expense for such tranche and (ii) the future time when the market capitalization milestone for such tranche was expected to be achieved, or its “expected market capitalization milestone achievement time.” Separately, based on a subjective assessment of our future financial performance, each quarter we determine whether it is probable that we will achieve each operational milestone that has not previously been achieved or deemed probable of achievement and if so, the future time when we expect to achieve that operational milestone, or its “expected operational milestone achievement time.” When we first determine that an operational milestone has become probable of being achieved, we allocate the entire expense for the related tranche over the number of quarters between the grant date and the then-applicable “expected vesting time.” The “expected vesting time” at any given time is the later of (i) the expected operational milestone achievement time (if the related operational milestone has not yet been achieved) and (ii) the expected market capitalization milestone achievement time (if the related market capitalization milestone has not yet been achieved).\n",
            "Internal control over financial reporting is a process designed by, or under the supervision of, our Chief Executive Officer and Chief Financial Officer to provide reasonable assurance regarding the reliability of financial reporting and the preparation of financial statements for external purposes in accordance with generally accepted accounting principles and includes those policies and procedures that (1) pertain to the maintenance of records that in reasonable detail accurately and fairly reflect the transactions and dispositions of our assets; (2) provide reasonable assurance that transactions are recorded as necessary to permit preparation of financial statements in accordance with generally accepted accounting principles, and that our receipts and expenditures are being made only in accordance with authorizations of our management and directors and (3) provide reasonable assurance regarding prevention or timely detection of unauthorized acquisition, use or disposition of our assets that could have a material effect on the financial statements.\n",
            "Letter of Consent, dated as of August 14, 2020, by and among LML 2018 Warehouse SPV, LLC, Tesla 2014 Warehouse SPV LLC, Deutsche Bank AG, New York Branch, as Administrative Agent and Group Agent, and the Group Agents party thereto, in respect of (i) the Loan and Security Agreement, dated as of December 27, 2018 and as amended from time to time, by and among LML 2018 Warehouse SPV, LLC, Tesla Finance LLC, and the Lenders, Group Agents, Paying Agent and Administrative Agent from time to time party thereto, and (ii) the Amended and Restated Loan and Security Agreement, dated as of August 17, 2017 and as amended from time to time, by and among LML Warehouse SPV, LLC, Tesla Finance LLC, and the Lenders, Group Agents and Administrative Agent from time to time party thereto.\n"
          ]
        }
      ]
    },
    {
      "cell_type": "markdown",
      "source": [
        "Task 1.3\n",
        "Getting data from a text file"
      ],
      "metadata": {
        "id": "OG-YoIJli29L"
      }
    },
    {
      "cell_type": "code",
      "source": [
        "import pandas as pd\n",
        "import matplotlib.pyplot as plt\n",
        "\n",
        "# Load the data from the text file into a pandas DataFrame\n",
        "df = pd.read_csv(\"/content/data.txt\", sep=\"\\t\")\n",
        "\n",
        "# Set column names for the DataFrame\n",
        "df.columns = [\"Year\", \"Value\"]\n",
        "df.head()"
      ],
      "metadata": {
        "colab": {
          "base_uri": "https://localhost:8080/",
          "height": 206
        },
        "id": "9RX1rR6pi0od",
        "outputId": "b7e7f8e4-021c-4e26-f20a-28f6164f1ac3"
      },
      "execution_count": null,
      "outputs": [
        {
          "output_type": "execute_result",
          "data": {
            "text/plain": [
              "   Year  Value\n",
              "0  2009    152\n",
              "1  2010    147\n",
              "2  2011    164\n",
              "3  2012    186\n",
              "4  2013    132"
            ],
            "text/html": [
              "\n",
              "  <div id=\"df-8c389e17-78aa-47c5-a3d0-2869bf48d77a\" class=\"colab-df-container\">\n",
              "    <div>\n",
              "<style scoped>\n",
              "    .dataframe tbody tr th:only-of-type {\n",
              "        vertical-align: middle;\n",
              "    }\n",
              "\n",
              "    .dataframe tbody tr th {\n",
              "        vertical-align: top;\n",
              "    }\n",
              "\n",
              "    .dataframe thead th {\n",
              "        text-align: right;\n",
              "    }\n",
              "</style>\n",
              "<table border=\"1\" class=\"dataframe\">\n",
              "  <thead>\n",
              "    <tr style=\"text-align: right;\">\n",
              "      <th></th>\n",
              "      <th>Year</th>\n",
              "      <th>Value</th>\n",
              "    </tr>\n",
              "  </thead>\n",
              "  <tbody>\n",
              "    <tr>\n",
              "      <th>0</th>\n",
              "      <td>2009</td>\n",
              "      <td>152</td>\n",
              "    </tr>\n",
              "    <tr>\n",
              "      <th>1</th>\n",
              "      <td>2010</td>\n",
              "      <td>147</td>\n",
              "    </tr>\n",
              "    <tr>\n",
              "      <th>2</th>\n",
              "      <td>2011</td>\n",
              "      <td>164</td>\n",
              "    </tr>\n",
              "    <tr>\n",
              "      <th>3</th>\n",
              "      <td>2012</td>\n",
              "      <td>186</td>\n",
              "    </tr>\n",
              "    <tr>\n",
              "      <th>4</th>\n",
              "      <td>2013</td>\n",
              "      <td>132</td>\n",
              "    </tr>\n",
              "  </tbody>\n",
              "</table>\n",
              "</div>\n",
              "    <div class=\"colab-df-buttons\">\n",
              "\n",
              "  <div class=\"colab-df-container\">\n",
              "    <button class=\"colab-df-convert\" onclick=\"convertToInteractive('df-8c389e17-78aa-47c5-a3d0-2869bf48d77a')\"\n",
              "            title=\"Convert this dataframe to an interactive table.\"\n",
              "            style=\"display:none;\">\n",
              "\n",
              "  <svg xmlns=\"http://www.w3.org/2000/svg\" height=\"24px\" viewBox=\"0 -960 960 960\">\n",
              "    <path d=\"M120-120v-720h720v720H120Zm60-500h600v-160H180v160Zm220 220h160v-160H400v160Zm0 220h160v-160H400v160ZM180-400h160v-160H180v160Zm440 0h160v-160H620v160ZM180-180h160v-160H180v160Zm440 0h160v-160H620v160Z\"/>\n",
              "  </svg>\n",
              "    </button>\n",
              "\n",
              "  <style>\n",
              "    .colab-df-container {\n",
              "      display:flex;\n",
              "      gap: 12px;\n",
              "    }\n",
              "\n",
              "    .colab-df-convert {\n",
              "      background-color: #E8F0FE;\n",
              "      border: none;\n",
              "      border-radius: 50%;\n",
              "      cursor: pointer;\n",
              "      display: none;\n",
              "      fill: #1967D2;\n",
              "      height: 32px;\n",
              "      padding: 0 0 0 0;\n",
              "      width: 32px;\n",
              "    }\n",
              "\n",
              "    .colab-df-convert:hover {\n",
              "      background-color: #E2EBFA;\n",
              "      box-shadow: 0px 1px 2px rgba(60, 64, 67, 0.3), 0px 1px 3px 1px rgba(60, 64, 67, 0.15);\n",
              "      fill: #174EA6;\n",
              "    }\n",
              "\n",
              "    .colab-df-buttons div {\n",
              "      margin-bottom: 4px;\n",
              "    }\n",
              "\n",
              "    [theme=dark] .colab-df-convert {\n",
              "      background-color: #3B4455;\n",
              "      fill: #D2E3FC;\n",
              "    }\n",
              "\n",
              "    [theme=dark] .colab-df-convert:hover {\n",
              "      background-color: #434B5C;\n",
              "      box-shadow: 0px 1px 3px 1px rgba(0, 0, 0, 0.15);\n",
              "      filter: drop-shadow(0px 1px 2px rgba(0, 0, 0, 0.3));\n",
              "      fill: #FFFFFF;\n",
              "    }\n",
              "  </style>\n",
              "\n",
              "    <script>\n",
              "      const buttonEl =\n",
              "        document.querySelector('#df-8c389e17-78aa-47c5-a3d0-2869bf48d77a button.colab-df-convert');\n",
              "      buttonEl.style.display =\n",
              "        google.colab.kernel.accessAllowed ? 'block' : 'none';\n",
              "\n",
              "      async function convertToInteractive(key) {\n",
              "        const element = document.querySelector('#df-8c389e17-78aa-47c5-a3d0-2869bf48d77a');\n",
              "        const dataTable =\n",
              "          await google.colab.kernel.invokeFunction('convertToInteractive',\n",
              "                                                    [key], {});\n",
              "        if (!dataTable) return;\n",
              "\n",
              "        const docLinkHtml = 'Like what you see? Visit the ' +\n",
              "          '<a target=\"_blank\" href=https://colab.research.google.com/notebooks/data_table.ipynb>data table notebook</a>'\n",
              "          + ' to learn more about interactive tables.';\n",
              "        element.innerHTML = '';\n",
              "        dataTable['output_type'] = 'display_data';\n",
              "        await google.colab.output.renderOutput(dataTable, element);\n",
              "        const docLink = document.createElement('div');\n",
              "        docLink.innerHTML = docLinkHtml;\n",
              "        element.appendChild(docLink);\n",
              "      }\n",
              "    </script>\n",
              "  </div>\n",
              "\n",
              "\n",
              "<div id=\"df-885336e4-86d2-409b-9fac-b50a60024d22\">\n",
              "  <button class=\"colab-df-quickchart\" onclick=\"quickchart('df-885336e4-86d2-409b-9fac-b50a60024d22')\"\n",
              "            title=\"Suggest charts\"\n",
              "            style=\"display:none;\">\n",
              "\n",
              "<svg xmlns=\"http://www.w3.org/2000/svg\" height=\"24px\"viewBox=\"0 0 24 24\"\n",
              "     width=\"24px\">\n",
              "    <g>\n",
              "        <path d=\"M19 3H5c-1.1 0-2 .9-2 2v14c0 1.1.9 2 2 2h14c1.1 0 2-.9 2-2V5c0-1.1-.9-2-2-2zM9 17H7v-7h2v7zm4 0h-2V7h2v10zm4 0h-2v-4h2v4z\"/>\n",
              "    </g>\n",
              "</svg>\n",
              "  </button>\n",
              "\n",
              "<style>\n",
              "  .colab-df-quickchart {\n",
              "      --bg-color: #E8F0FE;\n",
              "      --fill-color: #1967D2;\n",
              "      --hover-bg-color: #E2EBFA;\n",
              "      --hover-fill-color: #174EA6;\n",
              "      --disabled-fill-color: #AAA;\n",
              "      --disabled-bg-color: #DDD;\n",
              "  }\n",
              "\n",
              "  [theme=dark] .colab-df-quickchart {\n",
              "      --bg-color: #3B4455;\n",
              "      --fill-color: #D2E3FC;\n",
              "      --hover-bg-color: #434B5C;\n",
              "      --hover-fill-color: #FFFFFF;\n",
              "      --disabled-bg-color: #3B4455;\n",
              "      --disabled-fill-color: #666;\n",
              "  }\n",
              "\n",
              "  .colab-df-quickchart {\n",
              "    background-color: var(--bg-color);\n",
              "    border: none;\n",
              "    border-radius: 50%;\n",
              "    cursor: pointer;\n",
              "    display: none;\n",
              "    fill: var(--fill-color);\n",
              "    height: 32px;\n",
              "    padding: 0;\n",
              "    width: 32px;\n",
              "  }\n",
              "\n",
              "  .colab-df-quickchart:hover {\n",
              "    background-color: var(--hover-bg-color);\n",
              "    box-shadow: 0 1px 2px rgba(60, 64, 67, 0.3), 0 1px 3px 1px rgba(60, 64, 67, 0.15);\n",
              "    fill: var(--button-hover-fill-color);\n",
              "  }\n",
              "\n",
              "  .colab-df-quickchart-complete:disabled,\n",
              "  .colab-df-quickchart-complete:disabled:hover {\n",
              "    background-color: var(--disabled-bg-color);\n",
              "    fill: var(--disabled-fill-color);\n",
              "    box-shadow: none;\n",
              "  }\n",
              "\n",
              "  .colab-df-spinner {\n",
              "    border: 2px solid var(--fill-color);\n",
              "    border-color: transparent;\n",
              "    border-bottom-color: var(--fill-color);\n",
              "    animation:\n",
              "      spin 1s steps(1) infinite;\n",
              "  }\n",
              "\n",
              "  @keyframes spin {\n",
              "    0% {\n",
              "      border-color: transparent;\n",
              "      border-bottom-color: var(--fill-color);\n",
              "      border-left-color: var(--fill-color);\n",
              "    }\n",
              "    20% {\n",
              "      border-color: transparent;\n",
              "      border-left-color: var(--fill-color);\n",
              "      border-top-color: var(--fill-color);\n",
              "    }\n",
              "    30% {\n",
              "      border-color: transparent;\n",
              "      border-left-color: var(--fill-color);\n",
              "      border-top-color: var(--fill-color);\n",
              "      border-right-color: var(--fill-color);\n",
              "    }\n",
              "    40% {\n",
              "      border-color: transparent;\n",
              "      border-right-color: var(--fill-color);\n",
              "      border-top-color: var(--fill-color);\n",
              "    }\n",
              "    60% {\n",
              "      border-color: transparent;\n",
              "      border-right-color: var(--fill-color);\n",
              "    }\n",
              "    80% {\n",
              "      border-color: transparent;\n",
              "      border-right-color: var(--fill-color);\n",
              "      border-bottom-color: var(--fill-color);\n",
              "    }\n",
              "    90% {\n",
              "      border-color: transparent;\n",
              "      border-bottom-color: var(--fill-color);\n",
              "    }\n",
              "  }\n",
              "</style>\n",
              "\n",
              "  <script>\n",
              "    async function quickchart(key) {\n",
              "      const quickchartButtonEl =\n",
              "        document.querySelector('#' + key + ' button');\n",
              "      quickchartButtonEl.disabled = true;  // To prevent multiple clicks.\n",
              "      quickchartButtonEl.classList.add('colab-df-spinner');\n",
              "      try {\n",
              "        const charts = await google.colab.kernel.invokeFunction(\n",
              "            'suggestCharts', [key], {});\n",
              "      } catch (error) {\n",
              "        console.error('Error during call to suggestCharts:', error);\n",
              "      }\n",
              "      quickchartButtonEl.classList.remove('colab-df-spinner');\n",
              "      quickchartButtonEl.classList.add('colab-df-quickchart-complete');\n",
              "    }\n",
              "    (() => {\n",
              "      let quickchartButtonEl =\n",
              "        document.querySelector('#df-885336e4-86d2-409b-9fac-b50a60024d22 button');\n",
              "      quickchartButtonEl.style.display =\n",
              "        google.colab.kernel.accessAllowed ? 'block' : 'none';\n",
              "    })();\n",
              "  </script>\n",
              "</div>\n",
              "\n",
              "    </div>\n",
              "  </div>\n"
            ],
            "application/vnd.google.colaboratory.intrinsic+json": {
              "type": "dataframe",
              "variable_name": "df",
              "summary": "{\n  \"name\": \"df\",\n  \"rows\": 6,\n  \"fields\": [\n    {\n      \"column\": \"Year\",\n      \"properties\": {\n        \"dtype\": \"number\",\n        \"std\": 1,\n        \"min\": 2009,\n        \"max\": 2014,\n        \"num_unique_values\": 6,\n        \"samples\": [\n          2009,\n          2010,\n          2014\n        ],\n        \"semantic_type\": \"\",\n        \"description\": \"\"\n      }\n    },\n    {\n      \"column\": \"Value\",\n      \"properties\": {\n        \"dtype\": \"number\",\n        \"std\": 18,\n        \"min\": 132,\n        \"max\": 186,\n        \"num_unique_values\": 6,\n        \"samples\": [\n          152,\n          147,\n          144\n        ],\n        \"semantic_type\": \"\",\n        \"description\": \"\"\n      }\n    }\n  ]\n}"
            }
          },
          "metadata": {},
          "execution_count": 18
        }
      ]
    },
    {
      "cell_type": "markdown",
      "source": [
        "Using a txt file with Year and Value, plotting line graph"
      ],
      "metadata": {
        "id": "Uepg_SJHioQF"
      }
    },
    {
      "cell_type": "code",
      "source": [
        "# Create a line plot of the data\n",
        "plt.plot(df[\"Year\"], df[\"Value\"])\n",
        "plt.xlabel(\"Year\")\n",
        "plt.ylabel(\"Value\")\n",
        "plt.title(\"Visualization of Data from Text File\")\n",
        "plt.show()"
      ],
      "metadata": {
        "colab": {
          "base_uri": "https://localhost:8080/",
          "height": 472
        },
        "id": "OFLx2k3Bg1HN",
        "outputId": "907e525e-bf67-496a-88e4-99c4d6d9a3bb"
      },
      "execution_count": null,
      "outputs": [
        {
          "output_type": "display_data",
          "data": {
            "text/plain": [
              "<Figure size 640x480 with 1 Axes>"
            ],
            "image/png": "[encoded data removed]"
          },
          "metadata": {}
        }
      ]
    },
    {
      "cell_type": "markdown",
      "source": [
        "Creating a bar chart with text file having Year and Value as fields\n"
      ],
      "metadata": {
        "id": "OyLaMsisjmMe"
      }
    },
    {
      "cell_type": "code",
      "source": [
        "import pandas as pd\n",
        "import matplotlib.pyplot as plt\n",
        "\n",
        "# Load the data from the CSV file into a pandas DataFrame\n",
        "df = pd.read_csv(\"/content/data.txt\", sep=\"\\t\")\n",
        "\n",
        "# Set the \"Year\" column as the index of the DataFrame\n",
        "df.set_index(\"Year\", inplace=True)\n",
        "\n",
        "# Create a bar plot of the \"Value\" column\n",
        "df[\"Value\"].plot(kind=\"bar\")\n",
        "\n",
        "# Set the title and labels of the plot\n",
        "plt.title(\"Bar Chart of Value by Year\")\n",
        "plt.xlabel(\"Year\")\n",
        "plt.ylabel(\"Value\")\n",
        "\n",
        "# Show the plot\n",
        "plt.show()"
      ],
      "metadata": {
        "colab": {
          "base_uri": "https://localhost:8080/",
          "height": 493
        },
        "id": "QPxeLFKSjjpf",
        "outputId": "b417e920-1da1-4cfb-b0a9-95c7ba3249a6"
      },
      "execution_count": null,
      "outputs": [
        {
          "output_type": "display_data",
          "data": {
            "text/plain": [
              "<Figure size 640x480 with 1 Axes>"
            ],
            "image/png": "[encoded data removed]"
          },
          "metadata": {}
        }
      ]
    }
  ]
}